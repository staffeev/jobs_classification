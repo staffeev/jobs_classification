{
 "cells": [
  {
   "cell_type": "code",
<<<<<<< HEAD
   "execution_count": 17,
   "metadata": {},
   "outputs": [],
   "source": [
    "import pandas as pd\n",
    "import numpy as np\n",
    "import timeit\n",
    "from nltk.stem.snowball import SnowballStemmer"
=======
   "execution_count": 1,
   "metadata": {},
   "outputs": [],
   "source": [
    "import pandas as pd"
>>>>>>> 2f2a1e1 (Revert "pochti gotovo)")
   ]
  },
  {
   "cell_type": "code",
<<<<<<< HEAD
   "execution_count": 12,
=======
   "execution_count": 28,
>>>>>>> 2f2a1e1 (Revert "pochti gotovo)")
   "metadata": {},
   "outputs": [],
   "source": [
    "df = pd.read_csv(\"jobs.csv\")"
   ]
  },
  {
   "cell_type": "code",
<<<<<<< HEAD
   "execution_count": 13,
   "metadata": {},
   "outputs": [],
   "source": [
    "df[\"name\"] = df[\"name\"].str.lower()"
   ]
  },
  {
   "cell_type": "code",
   "execution_count": 14,
   "metadata": {},
   "outputs": [],
   "source": [
    "stemmer = SnowballStemmer(language=\"russian\")"
   ]
  },
  {
   "cell_type": "code",
   "execution_count": 20,
   "metadata": {},
   "outputs": [],
   "source": [
    "all_words = np.concatenate(df[\"name\"].str.split())"
   ]
  },
  {
   "cell_type": "code",
   "execution_count": 22,
   "metadata": {},
   "outputs": [],
   "source": [
    "def stem_word(word):\n",
    "    return stemmer.stem(word)\n",
    "\n",
    "vfunc = np.vectorize(stem_word)"
   ]
  },
  {
   "cell_type": "code",
   "execution_count": 26,
   "metadata": {},
   "outputs": [
    {
     "data": {
      "text/plain": [
       "0.19720822399904137"
      ]
     },
     "execution_count": 26,
     "metadata": {},
     "output_type": "execute_result"
    }
   ],
   "source": [
    "timeit.timeit(lambda: vfunc(all_words), number=1)"
   ]
  },
  {
   "cell_type": "code",
=======
>>>>>>> 2f2a1e1 (Revert "pochti gotovo)")
   "execution_count": 29,
   "metadata": {},
   "outputs": [
    {
     "data": {
<<<<<<< HEAD
      "text/plain": [
       "'кринжов'"
=======
      "text/html": [
       "<div>\n",
       "<style scoped>\n",
       "    .dataframe tbody tr th:only-of-type {\n",
       "        vertical-align: middle;\n",
       "    }\n",
       "\n",
       "    .dataframe tbody tr th {\n",
       "        vertical-align: top;\n",
       "    }\n",
       "\n",
       "    .dataframe thead th {\n",
       "        text-align: right;\n",
       "    }\n",
       "</style>\n",
       "<table border=\"1\" class=\"dataframe\">\n",
       "  <thead>\n",
       "    <tr style=\"text-align: right;\">\n",
       "      <th></th>\n",
       "      <th>Unnamed: 0</th>\n",
       "      <th>id</th>\n",
       "      <th>start_date</th>\n",
       "      <th>num_month</th>\n",
       "      <th>name</th>\n",
       "      <th>description</th>\n",
       "      <th>sex</th>\n",
       "      <th>birthday</th>\n",
       "      <th>edu_level</th>\n",
       "      <th>num_lang</th>\n",
       "      <th>skills</th>\n",
       "      <th>filename</th>\n",
       "    </tr>\n",
       "  </thead>\n",
       "  <tbody>\n",
       "    <tr>\n",
       "      <th>0</th>\n",
       "      <td>0</td>\n",
       "      <td>1</td>\n",
       "      <td>2010-01-01</td>\n",
       "      <td>61</td>\n",
       "      <td>механик отдела эксплуатации,ст.мастер РММ</td>\n",
       "      <td>проверка технического состояния ,постановка на...</td>\n",
       "      <td>Мужчина</td>\n",
       "      <td>1971-09-30</td>\n",
       "      <td>3</td>\n",
       "      <td>2</td>\n",
       "      <td>NaN</td>\n",
       "      <td>data/resumes/c0bdccb200025d6b190039ed1f4d62637...</td>\n",
       "    </tr>\n",
       "    <tr>\n",
       "      <th>1</th>\n",
       "      <td>1</td>\n",
       "      <td>1</td>\n",
       "      <td>2008-05-01</td>\n",
       "      <td>32</td>\n",
       "      <td>оператор асфальтоукладчика</td>\n",
       "      <td>производство и укладка полотна асфальтобетона....</td>\n",
       "      <td>Мужчина</td>\n",
       "      <td>1971-09-30</td>\n",
       "      <td>3</td>\n",
       "      <td>2</td>\n",
       "      <td>NaN</td>\n",
       "      <td>data/resumes/c0bdccb200025d6b190039ed1f4d62637...</td>\n",
       "    </tr>\n",
       "    <tr>\n",
       "      <th>2</th>\n",
       "      <td>2</td>\n",
       "      <td>1</td>\n",
       "      <td>1996-04-01</td>\n",
       "      <td>145</td>\n",
       "      <td>от слесаря до главного инженера</td>\n",
       "      <td>организация бесперебойной работы производства....</td>\n",
       "      <td>Мужчина</td>\n",
       "      <td>1971-09-30</td>\n",
       "      <td>3</td>\n",
       "      <td>2</td>\n",
       "      <td>NaN</td>\n",
       "      <td>data/resumes/c0bdccb200025d6b190039ed1f4d62637...</td>\n",
       "    </tr>\n",
       "    <tr>\n",
       "      <th>3</th>\n",
       "      <td>3</td>\n",
       "      <td>2</td>\n",
       "      <td>2015-11-01</td>\n",
       "      <td>97</td>\n",
       "      <td>Агроном</td>\n",
       "      <td>Проверка качества сбора огурца,\\nРабота с перв...</td>\n",
       "      <td>Мужчина</td>\n",
       "      <td>1994-05-16</td>\n",
       "      <td>3</td>\n",
       "      <td>1</td>\n",
       "      <td>NaN</td>\n",
       "      <td>data/resumes/0022b6c30002332ae80039ed1f3330306...</td>\n",
       "    </tr>\n",
       "    <tr>\n",
       "      <th>4</th>\n",
       "      <td>4</td>\n",
       "      <td>3</td>\n",
       "      <td>2022-02-01</td>\n",
       "      <td>19</td>\n",
       "      <td>Технолог по мясопереработке</td>\n",
       "      <td>Проведение переговоров с технологами и первыми...</td>\n",
       "      <td>Мужчина</td>\n",
       "      <td>1985-10-03</td>\n",
       "      <td>3</td>\n",
       "      <td>2</td>\n",
       "      <td>обвалка.организация колбасного производства, К...</td>\n",
       "      <td>data/resumes/b0fec0a900027632fa0039ed1f756f434...</td>\n",
       "    </tr>\n",
       "    <tr>\n",
       "      <th>...</th>\n",
       "      <td>...</td>\n",
       "      <td>...</td>\n",
       "      <td>...</td>\n",
       "      <td>...</td>\n",
       "      <td>...</td>\n",
       "      <td>...</td>\n",
       "      <td>...</td>\n",
       "      <td>...</td>\n",
       "      <td>...</td>\n",
       "      <td>...</td>\n",
       "      <td>...</td>\n",
       "      <td>...</td>\n",
       "    </tr>\n",
       "    <tr>\n",
       "      <th>4325</th>\n",
       "      <td>4325</td>\n",
       "      <td>1000</td>\n",
       "      <td>2010-09-01</td>\n",
       "      <td>27</td>\n",
       "      <td>Инженер-механик</td>\n",
       "      <td>Организация работы транспортного отдела.Выпуск...</td>\n",
       "      <td>Мужчина</td>\n",
       "      <td>1980-05-27</td>\n",
       "      <td>3</td>\n",
       "      <td>3</td>\n",
       "      <td>Автомобильные грузоперевозки, Ремонтные работы...</td>\n",
       "      <td>data/resumes/dc30b54b00015ecd0a0039ed1f48796a5...</td>\n",
       "    </tr>\n",
       "    <tr>\n",
       "      <th>4326</th>\n",
       "      <td>4326</td>\n",
       "      <td>1000</td>\n",
       "      <td>2008-04-01</td>\n",
       "      <td>30</td>\n",
       "      <td>Водитель-экспедитор</td>\n",
       "      <td>Обеспечение технически исправное состояние зак...</td>\n",
       "      <td>Мужчина</td>\n",
       "      <td>1980-05-27</td>\n",
       "      <td>3</td>\n",
       "      <td>3</td>\n",
       "      <td>Автомобильные грузоперевозки, Ремонтные работы...</td>\n",
       "      <td>data/resumes/dc30b54b00015ecd0a0039ed1f48796a5...</td>\n",
       "    </tr>\n",
       "    <tr>\n",
       "      <th>4327</th>\n",
       "      <td>4327</td>\n",
       "      <td>1000</td>\n",
       "      <td>2007-10-01</td>\n",
       "      <td>5</td>\n",
       "      <td>Мастер ПО</td>\n",
       "      <td>Организация бесперебойной работы техники за сч...</td>\n",
       "      <td>Мужчина</td>\n",
       "      <td>1980-05-27</td>\n",
       "      <td>3</td>\n",
       "      <td>3</td>\n",
       "      <td>Автомобильные грузоперевозки, Ремонтные работы...</td>\n",
       "      <td>data/resumes/dc30b54b00015ecd0a0039ed1f48796a5...</td>\n",
       "    </tr>\n",
       "    <tr>\n",
       "      <th>4328</th>\n",
       "      <td>4328</td>\n",
       "      <td>1000</td>\n",
       "      <td>2004-08-01</td>\n",
       "      <td>39</td>\n",
       "      <td>Механик</td>\n",
       "      <td>Выпуск на линию автотранспорта, оформление и в...</td>\n",
       "      <td>Мужчина</td>\n",
       "      <td>1980-05-27</td>\n",
       "      <td>3</td>\n",
       "      <td>3</td>\n",
       "      <td>Автомобильные грузоперевозки, Ремонтные работы...</td>\n",
       "      <td>data/resumes/dc30b54b00015ecd0a0039ed1f48796a5...</td>\n",
       "    </tr>\n",
       "    <tr>\n",
       "      <th>4329</th>\n",
       "      <td>4329</td>\n",
       "      <td>1000</td>\n",
       "      <td>2002-09-01</td>\n",
       "      <td>60</td>\n",
       "      <td>Механик-водитель</td>\n",
       "      <td>Выпуск на линию автотранспорта, оформление и в...</td>\n",
       "      <td>Мужчина</td>\n",
       "      <td>1980-05-27</td>\n",
       "      <td>3</td>\n",
       "      <td>3</td>\n",
       "      <td>Автомобильные грузоперевозки, Ремонтные работы...</td>\n",
       "      <td>data/resumes/dc30b54b00015ecd0a0039ed1f48796a5...</td>\n",
       "    </tr>\n",
       "  </tbody>\n",
       "</table>\n",
       "<p>4330 rows × 12 columns</p>\n",
       "</div>"
      ],
      "text/plain": [
       "      Unnamed: 0    id  start_date  num_month  \\\n",
       "0              0     1  2010-01-01         61   \n",
       "1              1     1  2008-05-01         32   \n",
       "2              2     1  1996-04-01        145   \n",
       "3              3     2  2015-11-01         97   \n",
       "4              4     3  2022-02-01         19   \n",
       "...          ...   ...         ...        ...   \n",
       "4325        4325  1000  2010-09-01         27   \n",
       "4326        4326  1000  2008-04-01         30   \n",
       "4327        4327  1000  2007-10-01          5   \n",
       "4328        4328  1000  2004-08-01         39   \n",
       "4329        4329  1000  2002-09-01         60   \n",
       "\n",
       "                                           name  \\\n",
       "0     механик отдела эксплуатации,ст.мастер РММ   \n",
       "1                    оператор асфальтоукладчика   \n",
       "2               от слесаря до главного инженера   \n",
       "3                                       Агроном   \n",
       "4                   Технолог по мясопереработке   \n",
       "...                                         ...   \n",
       "4325                            Инженер-механик   \n",
       "4326                        Водитель-экспедитор   \n",
       "4327                                  Мастер ПО   \n",
       "4328                                    Механик   \n",
       "4329                           Механик-водитель   \n",
       "\n",
       "                                            description      sex    birthday  \\\n",
       "0     проверка технического состояния ,постановка на...  Мужчина  1971-09-30   \n",
       "1     производство и укладка полотна асфальтобетона....  Мужчина  1971-09-30   \n",
       "2     организация бесперебойной работы производства....  Мужчина  1971-09-30   \n",
       "3     Проверка качества сбора огурца,\\nРабота с перв...  Мужчина  1994-05-16   \n",
       "4     Проведение переговоров с технологами и первыми...  Мужчина  1985-10-03   \n",
       "...                                                 ...      ...         ...   \n",
       "4325  Организация работы транспортного отдела.Выпуск...  Мужчина  1980-05-27   \n",
       "4326  Обеспечение технически исправное состояние зак...  Мужчина  1980-05-27   \n",
       "4327  Организация бесперебойной работы техники за сч...  Мужчина  1980-05-27   \n",
       "4328  Выпуск на линию автотранспорта, оформление и в...  Мужчина  1980-05-27   \n",
       "4329  Выпуск на линию автотранспорта, оформление и в...  Мужчина  1980-05-27   \n",
       "\n",
       "      edu_level  num_lang                                             skills  \\\n",
       "0             3         2                                                NaN   \n",
       "1             3         2                                                NaN   \n",
       "2             3         2                                                NaN   \n",
       "3             3         1                                                NaN   \n",
       "4             3         2  обвалка.организация колбасного производства, К...   \n",
       "...         ...       ...                                                ...   \n",
       "4325          3         3  Автомобильные грузоперевозки, Ремонтные работы...   \n",
       "4326          3         3  Автомобильные грузоперевозки, Ремонтные работы...   \n",
       "4327          3         3  Автомобильные грузоперевозки, Ремонтные работы...   \n",
       "4328          3         3  Автомобильные грузоперевозки, Ремонтные работы...   \n",
       "4329          3         3  Автомобильные грузоперевозки, Ремонтные работы...   \n",
       "\n",
       "                                               filename  \n",
       "0     data/resumes/c0bdccb200025d6b190039ed1f4d62637...  \n",
       "1     data/resumes/c0bdccb200025d6b190039ed1f4d62637...  \n",
       "2     data/resumes/c0bdccb200025d6b190039ed1f4d62637...  \n",
       "3     data/resumes/0022b6c30002332ae80039ed1f3330306...  \n",
       "4     data/resumes/b0fec0a900027632fa0039ed1f756f434...  \n",
       "...                                                 ...  \n",
       "4325  data/resumes/dc30b54b00015ecd0a0039ed1f48796a5...  \n",
       "4326  data/resumes/dc30b54b00015ecd0a0039ed1f48796a5...  \n",
       "4327  data/resumes/dc30b54b00015ecd0a0039ed1f48796a5...  \n",
       "4328  data/resumes/dc30b54b00015ecd0a0039ed1f48796a5...  \n",
       "4329  data/resumes/dc30b54b00015ecd0a0039ed1f48796a5...  \n",
       "\n",
       "[4330 rows x 12 columns]"
>>>>>>> 2f2a1e1 (Revert "pochti gotovo)")
      ]
     },
     "execution_count": 29,
     "metadata": {},
     "output_type": "execute_result"
    }
   ],
   "source": [
<<<<<<< HEAD
    "stem_word(\"кринжовый\")"
=======
    "df"
>>>>>>> 2f2a1e1 (Revert "pochti gotovo)")
   ]
  },
  {
   "cell_type": "code",
<<<<<<< HEAD
   "execution_count": 32,
   "metadata": {},
   "outputs": [],
   "source": [
    "from pymorphy2 import MorphAnalyzer\n",
    "anal = MorphAnalyzer()\n",
    "vfunc2 = np.vectorize(anal.parse)"
=======
   "execution_count": 24,
   "metadata": {},
   "outputs": [],
   "source": [
    "df[\"name\"] = df[\"name\"].str.lower()"
>>>>>>> 2f2a1e1 (Revert "pochti gotovo)")
   ]
  },
  {
   "cell_type": "code",
<<<<<<< HEAD
   "execution_count": 35,
=======
   "execution_count": 51,
>>>>>>> 2f2a1e1 (Revert "pochti gotovo)")
   "metadata": {},
   "outputs": [
    {
     "data": {
      "text/plain": [
<<<<<<< HEAD
       "0.9531678819985245"
      ]
     },
     "execution_count": 35,
=======
       "['Unnamed: 0',\n",
       " 'id',\n",
       " 'start_date',\n",
       " 'num_month',\n",
       " 'name',\n",
       " 'description',\n",
       " 'sex',\n",
       " 'birthday',\n",
       " 'edu_level',\n",
       " 'num_lang',\n",
       " 'skills',\n",
       " 'filename',\n",
       " 'len']"
      ]
     },
     "execution_count": 51,
>>>>>>> 2f2a1e1 (Revert "pochti gotovo)")
     "metadata": {},
     "output_type": "execute_result"
    }
   ],
   "source": [
<<<<<<< HEAD
    "timeit.timeit(lambda: [anal.parse(i) for i in all_words], number=1)"
=======
    "list(df[df[\"birthday\"] > \"2003-01-01\"][\"filename\"])"
   ]
  },
  {
   "cell_type": "code",
   "execution_count": 45,
   "metadata": {},
   "outputs": [],
   "source": [
    "df[\"len\"] = df[\"name\"].apply(len)"
   ]
  },
  {
   "cell_type": "code",
   "execution_count": 50,
   "metadata": {},
   "outputs": [
    {
     "ename": "AttributeError",
     "evalue": "'float' object has no attribute 'split'",
     "output_type": "error",
     "traceback": [
      "\u001b[0;31m---------------------------------------------------------------------------\u001b[0m",
      "\u001b[0;31mAttributeError\u001b[0m                            Traceback (most recent call last)",
      "\u001b[1;32m/home/staffeev/ProgrammingProjects/jobs_classification/datasets/analysis.ipynb Cell 7\u001b[0m line \u001b[0;36m1\n\u001b[0;32m----> <a href='vscode-notebook-cell:/home/staffeev/ProgrammingProjects/jobs_classification/datasets/analysis.ipynb#X11sZmlsZQ%3D%3D?line=0'>1</a>\u001b[0m df[\u001b[39m\"\u001b[39m\u001b[39mlen_skills\u001b[39m\u001b[39m\"\u001b[39m] \u001b[39m=\u001b[39m df[\u001b[39m\"\u001b[39;49m\u001b[39mskills\u001b[39;49m\u001b[39m\"\u001b[39;49m]\u001b[39m.\u001b[39;49mapply(\u001b[39mlambda\u001b[39;49;00m x: \u001b[39mlen\u001b[39;49m(x\u001b[39m.\u001b[39;49msplit(\u001b[39m\"\u001b[39;49m\u001b[39m, \u001b[39;49m\u001b[39m\"\u001b[39;49m)))\n",
      "File \u001b[0;32m~/.local/lib/python3.10/site-packages/pandas/core/series.py:4760\u001b[0m, in \u001b[0;36mSeries.apply\u001b[0;34m(self, func, convert_dtype, args, by_row, **kwargs)\u001b[0m\n\u001b[1;32m   4625\u001b[0m \u001b[39mdef\u001b[39;00m \u001b[39mapply\u001b[39m(\n\u001b[1;32m   4626\u001b[0m     \u001b[39mself\u001b[39m,\n\u001b[1;32m   4627\u001b[0m     func: AggFuncType,\n\u001b[0;32m   (...)\u001b[0m\n\u001b[1;32m   4632\u001b[0m     \u001b[39m*\u001b[39m\u001b[39m*\u001b[39mkwargs,\n\u001b[1;32m   4633\u001b[0m ) \u001b[39m-\u001b[39m\u001b[39m>\u001b[39m DataFrame \u001b[39m|\u001b[39m Series:\n\u001b[1;32m   4634\u001b[0m \u001b[39m    \u001b[39m\u001b[39m\"\"\"\u001b[39;00m\n\u001b[1;32m   4635\u001b[0m \u001b[39m    Invoke function on values of Series.\u001b[39;00m\n\u001b[1;32m   4636\u001b[0m \n\u001b[0;32m   (...)\u001b[0m\n\u001b[1;32m   4751\u001b[0m \u001b[39m    dtype: float64\u001b[39;00m\n\u001b[1;32m   4752\u001b[0m \u001b[39m    \"\"\"\u001b[39;00m\n\u001b[1;32m   4753\u001b[0m     \u001b[39mreturn\u001b[39;00m SeriesApply(\n\u001b[1;32m   4754\u001b[0m         \u001b[39mself\u001b[39;49m,\n\u001b[1;32m   4755\u001b[0m         func,\n\u001b[1;32m   4756\u001b[0m         convert_dtype\u001b[39m=\u001b[39;49mconvert_dtype,\n\u001b[1;32m   4757\u001b[0m         by_row\u001b[39m=\u001b[39;49mby_row,\n\u001b[1;32m   4758\u001b[0m         args\u001b[39m=\u001b[39;49margs,\n\u001b[1;32m   4759\u001b[0m         kwargs\u001b[39m=\u001b[39;49mkwargs,\n\u001b[0;32m-> 4760\u001b[0m     )\u001b[39m.\u001b[39;49mapply()\n",
      "File \u001b[0;32m~/.local/lib/python3.10/site-packages/pandas/core/apply.py:1207\u001b[0m, in \u001b[0;36mSeriesApply.apply\u001b[0;34m(self)\u001b[0m\n\u001b[1;32m   1204\u001b[0m     \u001b[39mreturn\u001b[39;00m \u001b[39mself\u001b[39m\u001b[39m.\u001b[39mapply_compat()\n\u001b[1;32m   1206\u001b[0m \u001b[39m# self.func is Callable\u001b[39;00m\n\u001b[0;32m-> 1207\u001b[0m \u001b[39mreturn\u001b[39;00m \u001b[39mself\u001b[39;49m\u001b[39m.\u001b[39;49mapply_standard()\n",
      "File \u001b[0;32m~/.local/lib/python3.10/site-packages/pandas/core/apply.py:1287\u001b[0m, in \u001b[0;36mSeriesApply.apply_standard\u001b[0;34m(self)\u001b[0m\n\u001b[1;32m   1281\u001b[0m \u001b[39m# row-wise access\u001b[39;00m\n\u001b[1;32m   1282\u001b[0m \u001b[39m# apply doesn't have a `na_action` keyword and for backward compat reasons\u001b[39;00m\n\u001b[1;32m   1283\u001b[0m \u001b[39m# we need to give `na_action=\"ignore\"` for categorical data.\u001b[39;00m\n\u001b[1;32m   1284\u001b[0m \u001b[39m# TODO: remove the `na_action=\"ignore\"` when that default has been changed in\u001b[39;00m\n\u001b[1;32m   1285\u001b[0m \u001b[39m#  Categorical (GH51645).\u001b[39;00m\n\u001b[1;32m   1286\u001b[0m action \u001b[39m=\u001b[39m \u001b[39m\"\u001b[39m\u001b[39mignore\u001b[39m\u001b[39m\"\u001b[39m \u001b[39mif\u001b[39;00m \u001b[39misinstance\u001b[39m(obj\u001b[39m.\u001b[39mdtype, CategoricalDtype) \u001b[39melse\u001b[39;00m \u001b[39mNone\u001b[39;00m\n\u001b[0;32m-> 1287\u001b[0m mapped \u001b[39m=\u001b[39m obj\u001b[39m.\u001b[39;49m_map_values(\n\u001b[1;32m   1288\u001b[0m     mapper\u001b[39m=\u001b[39;49mcurried, na_action\u001b[39m=\u001b[39;49maction, convert\u001b[39m=\u001b[39;49m\u001b[39mself\u001b[39;49m\u001b[39m.\u001b[39;49mconvert_dtype\n\u001b[1;32m   1289\u001b[0m )\n\u001b[1;32m   1291\u001b[0m \u001b[39mif\u001b[39;00m \u001b[39mlen\u001b[39m(mapped) \u001b[39mand\u001b[39;00m \u001b[39misinstance\u001b[39m(mapped[\u001b[39m0\u001b[39m], ABCSeries):\n\u001b[1;32m   1292\u001b[0m     \u001b[39m# GH#43986 Need to do list(mapped) in order to get treated as nested\u001b[39;00m\n\u001b[1;32m   1293\u001b[0m     \u001b[39m#  See also GH#25959 regarding EA support\u001b[39;00m\n\u001b[1;32m   1294\u001b[0m     \u001b[39mreturn\u001b[39;00m obj\u001b[39m.\u001b[39m_constructor_expanddim(\u001b[39mlist\u001b[39m(mapped), index\u001b[39m=\u001b[39mobj\u001b[39m.\u001b[39mindex)\n",
      "File \u001b[0;32m~/.local/lib/python3.10/site-packages/pandas/core/base.py:921\u001b[0m, in \u001b[0;36mIndexOpsMixin._map_values\u001b[0;34m(self, mapper, na_action, convert)\u001b[0m\n\u001b[1;32m    918\u001b[0m \u001b[39mif\u001b[39;00m \u001b[39misinstance\u001b[39m(arr, ExtensionArray):\n\u001b[1;32m    919\u001b[0m     \u001b[39mreturn\u001b[39;00m arr\u001b[39m.\u001b[39mmap(mapper, na_action\u001b[39m=\u001b[39mna_action)\n\u001b[0;32m--> 921\u001b[0m \u001b[39mreturn\u001b[39;00m algorithms\u001b[39m.\u001b[39;49mmap_array(arr, mapper, na_action\u001b[39m=\u001b[39;49mna_action, convert\u001b[39m=\u001b[39;49mconvert)\n",
      "File \u001b[0;32m~/.local/lib/python3.10/site-packages/pandas/core/algorithms.py:1814\u001b[0m, in \u001b[0;36mmap_array\u001b[0;34m(arr, mapper, na_action, convert)\u001b[0m\n\u001b[1;32m   1812\u001b[0m values \u001b[39m=\u001b[39m arr\u001b[39m.\u001b[39mastype(\u001b[39mobject\u001b[39m, copy\u001b[39m=\u001b[39m\u001b[39mFalse\u001b[39;00m)\n\u001b[1;32m   1813\u001b[0m \u001b[39mif\u001b[39;00m na_action \u001b[39mis\u001b[39;00m \u001b[39mNone\u001b[39;00m:\n\u001b[0;32m-> 1814\u001b[0m     \u001b[39mreturn\u001b[39;00m lib\u001b[39m.\u001b[39;49mmap_infer(values, mapper, convert\u001b[39m=\u001b[39;49mconvert)\n\u001b[1;32m   1815\u001b[0m \u001b[39melse\u001b[39;00m:\n\u001b[1;32m   1816\u001b[0m     \u001b[39mreturn\u001b[39;00m lib\u001b[39m.\u001b[39mmap_infer_mask(\n\u001b[1;32m   1817\u001b[0m         values, mapper, mask\u001b[39m=\u001b[39misna(values)\u001b[39m.\u001b[39mview(np\u001b[39m.\u001b[39muint8), convert\u001b[39m=\u001b[39mconvert\n\u001b[1;32m   1818\u001b[0m     )\n",
      "File \u001b[0;32mlib.pyx:2920\u001b[0m, in \u001b[0;36mpandas._libs.lib.map_infer\u001b[0;34m()\u001b[0m\n",
      "\u001b[1;32m/home/staffeev/ProgrammingProjects/jobs_classification/datasets/analysis.ipynb Cell 7\u001b[0m line \u001b[0;36m1\n\u001b[0;32m----> <a href='vscode-notebook-cell:/home/staffeev/ProgrammingProjects/jobs_classification/datasets/analysis.ipynb#X11sZmlsZQ%3D%3D?line=0'>1</a>\u001b[0m df[\u001b[39m\"\u001b[39m\u001b[39mlen_skills\u001b[39m\u001b[39m\"\u001b[39m] \u001b[39m=\u001b[39m df[\u001b[39m\"\u001b[39m\u001b[39mskills\u001b[39m\u001b[39m\"\u001b[39m]\u001b[39m.\u001b[39mapply(\u001b[39mlambda\u001b[39;00m x: \u001b[39mlen\u001b[39m(x\u001b[39m.\u001b[39;49msplit(\u001b[39m\"\u001b[39m\u001b[39m, \u001b[39m\u001b[39m\"\u001b[39m)))\n",
      "\u001b[0;31mAttributeError\u001b[0m: 'float' object has no attribute 'split'"
     ]
    }
   ],
   "source": [
    "df[\"len_skills\"] = df[\"skills\"].apply(lambda x: len(x.split(\", \")))"
>>>>>>> 2f2a1e1 (Revert "pochti gotovo)")
   ]
  }
 ],
 "metadata": {
  "kernelspec": {
   "display_name": "Python 3",
   "language": "python",
   "name": "python3"
  },
  "language_info": {
   "codemirror_mode": {
    "name": "ipython",
    "version": 3
   },
   "file_extension": ".py",
   "mimetype": "text/x-python",
   "name": "python",
   "nbconvert_exporter": "python",
   "pygments_lexer": "ipython3",
   "version": "3.10.12"
  }
 },
 "nbformat": 4,
 "nbformat_minor": 2
}
